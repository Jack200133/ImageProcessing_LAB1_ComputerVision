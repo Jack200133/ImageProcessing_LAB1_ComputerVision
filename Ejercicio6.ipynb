{
 "cells": [
  {
   "cell_type": "markdown",
   "metadata": {},
   "source": [
    "#### Ejercicio 6.1 imagen Saigon "
   ]
  },
  {
   "cell_type": "code",
   "execution_count": 17,
   "metadata": {},
   "outputs": [],
   "source": [
    "import numpy as np\n",
    "from PIL import Image\n",
    "\n",
    "def histogram_equalization(image_array):\n",
    "    # Flatten the image array and calculate the histogram\n",
    "    histogram, _ = np.histogram(image_array.flatten(), bins=256, range=[0,256])\n",
    "\n",
    "    # Calculate the cumulative distribution function\n",
    "    cdf = histogram.cumsum()\n",
    "    cdf_normalized = cdf * histogram.max() / cdf.max()\n",
    "\n",
    "    # Use the cumulative distribution function to map the old pixel values to new ones\n",
    "    cdf_m = np.ma.masked_equal(cdf, 0)\n",
    "    cdf_m = (cdf_m - cdf_m.min()) * 255 / (cdf_m.max() - cdf_m.min())\n",
    "    cdf = np.ma.filled(cdf_m, 0).astype('uint8')\n",
    "\n",
    "    # Map the old values to the new values\n",
    "    image_equalized = cdf[image_array]\n",
    "    \n",
    "    return image_equalized\n",
    "\n",
    "# Load the image and convert to grayscale\n",
    "saigon_image_path = './Imgs//saigon.jpeg'  # Update with the correct path\n",
    "saigon_image = Image.open(saigon_image_path).convert('L')\n",
    "saigon_array = np.array(saigon_image)\n",
    "\n",
    "# Apply histogram equalization\n",
    "saigon_equalized_array = histogram_equalization(saigon_array)\n",
    "\n",
    "# Convert back to PIL image and save\n",
    "saigon_equalized_image = Image.fromarray(saigon_equalized_array)\n",
    "saigon_equalized_image.save('saigon_equalized.jpeg')\n"
   ]
  },
  {
   "cell_type": "markdown",
   "metadata": {},
   "source": [
    "#### Ejercicio 6.2 imagen Monkey"
   ]
  },
  {
   "cell_type": "code",
   "execution_count": 15,
   "metadata": {},
   "outputs": [],
   "source": [
    "import numpy as np\n",
    "from PIL import Image\n",
    "\n",
    "def histogram_equalization(image_array):\n",
    "    # Flatten the image array and calculate the histogram\n",
    "    histogram, _ = np.histogram(image_array.flatten(), bins=256, range=[0,256])\n",
    "\n",
    "    # Calculate the cumulative distribution function\n",
    "    cdf = histogram.cumsum()\n",
    "    cdf_normalized = cdf * histogram.max() / cdf.max()\n",
    "\n",
    "    # Use the cumulative distribution function to map the old pixel values to new ones\n",
    "    cdf_m = np.ma.masked_equal(cdf, 0)\n",
    "    cdf_m = (cdf_m - cdf_m.min()) * 255 / (cdf_m.max() - cdf_m.min())\n",
    "    cdf = np.ma.filled(cdf_m, 0).astype('uint8')\n",
    "\n",
    "    # Map the old values to the new values\n",
    "    image_equalized = cdf[image_array]\n",
    "    \n",
    "    return image_equalized\n",
    "\n",
    "# Load the image and convert to grayscale\n",
    "monkey_image_path = './imgs/monkey.jpeg'  # Update with the correct path\n",
    "monkey_image = Image.open(monkey_image_path).convert('L')\n",
    "monkey_array = np.array(monkey_image)\n",
    "\n",
    "# Apply histogram equalization\n",
    "monkey_equalized_array = histogram_equalization(monkey_array)\n",
    "\n",
    "# Convert back to PIL image and save\n",
    "monkey_equalized_image = Image.fromarray(monkey_equalized_array)\n",
    "monkey_equalized_image.save('monkey_equalized.jpeg')\n"
   ]
  },
  {
   "cell_type": "markdown",
   "metadata": {},
   "source": [
    "#### Ejercicio 6.3 imagen Rice"
   ]
  },
  {
   "cell_type": "code",
   "execution_count": 11,
   "metadata": {},
   "outputs": [
    {
     "name": "stdout",
     "output_type": "stream",
     "text": [
      "[[127 126 121 ...  95  93  91]\n",
      " [125 124 120 ...  95  93  91]\n",
      " [122 121 118 ...  93  93  91]\n",
      " ...\n",
      " [ 57  57  56 ...  46  46  46]\n",
      " [ 59  58  57 ...  43  42  42]\n",
      " [ 61  60  59 ...  42  41  41]]\n"
     ]
    }
   ],
   "source": [
    "from PIL import Image\n",
    "import numpy as np\n",
    "\n",
    "# Load the image\n",
    "rice_image_path = './Imgs/rice.jpg'\n",
    "rice_image = Image.open(rice_image_path).convert('L')  # Convert to grayscale\n",
    "\n",
    "# Convert to NumPy array\n",
    "rice_array = np.array(rice_image)\n",
    "print(rice_array)\n",
    "\n",
    "# Apply manual thresholding\n",
    "threshold = 130  # You may need to adjust this threshold\n",
    "rice_segmented = rice_array > threshold\n",
    "\n",
    "# Convert back to PIL image and save\n",
    "segmented_image = Image.fromarray(np.uint8(rice_segmented) * 255, 'L')\n",
    "segmented_image.save('rice_segmented.jpg')\n",
    "\n",
    "# Display the segmented image\n",
    "segmented_image.show()\n"
   ]
  },
  {
   "cell_type": "code",
   "execution_count": null,
   "metadata": {},
   "outputs": [],
   "source": []
  }
 ],
 "metadata": {
  "kernelspec": {
   "display_name": "Python 3",
   "language": "python",
   "name": "python3"
  },
  "language_info": {
   "codemirror_mode": {
    "name": "ipython",
    "version": 3
   },
   "file_extension": ".py",
   "mimetype": "text/x-python",
   "name": "python",
   "nbconvert_exporter": "python",
   "pygments_lexer": "ipython3",
   "version": "3.10.4"
  }
 },
 "nbformat": 4,
 "nbformat_minor": 2
}
